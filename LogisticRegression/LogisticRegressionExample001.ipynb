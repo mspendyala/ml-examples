{
  "nbformat": 4,
  "nbformat_minor": 0,
  "metadata": {
    "colab": {
      "name": "LogisticRegressionExample001",
      "provenance": [],
      "authorship_tag": "ABX9TyOmkYDSm2HTKyVT+x/ifflW",
      "include_colab_link": true
    },
    "kernelspec": {
      "name": "python3",
      "display_name": "Python 3"
    },
    "language_info": {
      "name": "python"
    }
  },
  "cells": [
    {
      "cell_type": "markdown",
      "metadata": {
        "id": "view-in-github",
        "colab_type": "text"
      },
      "source": [
        "<a href=\"https://colab.research.google.com/github/mspendyala/ml-examples/blob/main/LogisticRegression/LogisticRegressionExample001.ipynb\" target=\"_parent\"><img src=\"https://colab.research.google.com/assets/colab-badge.svg\" alt=\"Open In Colab\"/></a>"
      ]
    },
    {
      "cell_type": "code",
      "execution_count": null,
      "metadata": {
        "id": "33LPSx7vXXia"
      },
      "outputs": [],
      "source": [
        ""
      ]
    },
    {
      "cell_type": "markdown",
      "source": [
        "Logistic Regression example"
      ],
      "metadata": {
        "id": "X3R1h7FDXaQ5"
      }
    },
    {
      "cell_type": "markdown",
      "source": [
        "**Import Required Libraries**"
      ],
      "metadata": {
        "id": "1562QxZxZKNq"
      }
    },
    {
      "cell_type": "code",
      "source": [
        "## Import the modules\n",
        "from sklearn.datasets import make_classification\n",
        "from matplotlib import pyplot as plt\n",
        "from sklearn.linear_model import LogisticRegression\n",
        "from sklearn.model_selection import train_test_split\n",
        "from sklearn.metrics import confusion_matrix\n",
        "import pandas as pd\n",
        "\n"
      ],
      "metadata": {
        "id": "wzIpE4MVXb7V"
      },
      "execution_count": 2,
      "outputs": []
    },
    {
      "cell_type": "code",
      "source": [
        ""
      ],
      "metadata": {
        "id": "9FKLh79XX8Yx"
      },
      "execution_count": null,
      "outputs": []
    }
  ]
}