{
  "nbformat": 4,
  "nbformat_minor": 0,
  "metadata": {
    "colab": {
      "name": "LogisticRegressionExample001",
      "provenance": [],
      "authorship_tag": "ABX9TyNQt20fj6gQ4DdQ997Ekk/W",
      "include_colab_link": true
    },
    "kernelspec": {
      "name": "python3",
      "display_name": "Python 3"
    },
    "language_info": {
      "name": "python"
    }
  },
  "cells": [
    {
      "cell_type": "markdown",
      "metadata": {
        "id": "view-in-github",
        "colab_type": "text"
      },
      "source": [
        "<a href=\"https://colab.research.google.com/github/mspendyala/ml-examples/blob/main/LogisticRegression/LogisticRegressionExample001.ipynb\" target=\"_parent\"><img src=\"https://colab.research.google.com/assets/colab-badge.svg\" alt=\"Open In Colab\"/></a>"
      ]
    },
    {
      "cell_type": "code",
      "execution_count": null,
      "metadata": {
        "id": "33LPSx7vXXia"
      },
      "outputs": [],
      "source": [
        ""
      ]
    },
    {
      "cell_type": "markdown",
      "source": [
        "Logistic Regression example"
      ],
      "metadata": {
        "id": "X3R1h7FDXaQ5"
      }
    },
    {
      "cell_type": "markdown",
      "source": [
        "**Import Required Libraries**"
      ],
      "metadata": {
        "id": "1562QxZxZKNq"
      }
    },
    {
      "cell_type": "code",
      "source": [
        "## Import the modules\n",
        "from sklearn.datasets import make_classification\n",
        "from matplotlib import pyplot as plt\n",
        "from sklearn.linear_model import LogisticRegression\n",
        "from sklearn.tree import DecisionTreeClassifier\n",
        "from sklearn.neighbors import KNeighborsClassifier\n",
        "from sklearn.discriminant_analysis import LinearDiscriminantAnalysis\n",
        "from sklearn.naive_bayes import GaussianNB\n",
        "from sklearn.svm import SVC\n",
        "from sklearn.model_selection import train_test_split\n",
        "from sklearn.metrics import confusion_matrix, accuracy_score, classification_report\n",
        "import pandas as pd\n",
        "from sklearn.model_selection import StratifiedKFold\n",
        "from sklearn.model_selection import cross_val_score\n",
        "\n",
        "\n"
      ],
      "metadata": {
        "id": "wzIpE4MVXb7V"
      },
      "execution_count": null,
      "outputs": []
    },
    {
      "cell_type": "markdown",
      "source": [
        "**Generate the required dataset**"
      ],
      "metadata": {
        "id": "VxuybV4yaDmr"
      }
    },
    {
      "cell_type": "code",
      "source": [
        "X, y = make_classification(\n",
        "    n_samples = 1000,\n",
        "    n_features = 10,\n",
        "    n_classes = 2,\n",
        "    n_clusters_per_class = 1,\n",
        "    flip_y = 0.03,\n",
        "    n_informative = 2,\n",
        "    n_redundant=0,\n",
        "    n_repeated=0\n",
        "\n",
        "    \n",
        ")"
      ],
      "metadata": {
        "id": "Ruw_c3Y7aGnY"
      },
      "execution_count": null,
      "outputs": []
    },
    {
      "cell_type": "markdown",
      "source": [
        "**Split the Dataset**"
      ],
      "metadata": {
        "id": "ER_UbDNRdSCa"
      }
    },
    {
      "cell_type": "code",
      "source": [
        "X_train, X_test, y_train, y_test = train_test_split(X, y, test_size = 0.5, random_state=1)"
      ],
      "metadata": {
        "id": "VM7eM2s2dUA0"
      },
      "execution_count": null,
      "outputs": []
    },
    {
      "cell_type": "markdown",
      "source": [
        "**View the Train and Test datasets**"
      ],
      "metadata": {
        "id": "96w3SNZyd_1m"
      }
    },
    {
      "cell_type": "code",
      "source": [
        "display(X_train)"
      ],
      "metadata": {
        "id": "5pB6x-NZdi-J",
        "outputId": "491a5b85-dc6e-4817-dcd0-9bbea19c79c6",
        "colab": {
          "base_uri": "https://localhost:8080/",
          "height": 243
        }
      },
      "execution_count": null,
      "outputs": [
        {
          "output_type": "display_data",
          "data": {
            "text/plain": [
              "array([[-0.79397522, -2.35723895,  0.54419626, ..., -0.04151616,\n",
              "         2.63770585, -0.27349273],\n",
              "       [ 0.66985238, -1.6742476 ,  0.57995742, ...,  0.70905192,\n",
              "         1.50371537,  0.65662463],\n",
              "       [ 0.08787503, -0.51568199,  1.09767886, ...,  0.18504645,\n",
              "         0.51190714,  1.33985792],\n",
              "       ...,\n",
              "       [-1.63195179,  1.34223573, -0.20646024, ..., -0.18775654,\n",
              "        -0.37888917,  0.74427798],\n",
              "       [ 1.15061817, -0.31935688,  1.18292677, ...,  0.37570418,\n",
              "        -0.07193189,  0.39761927],\n",
              "       [ 0.23043147, -0.44874728,  0.17231593, ...,  1.26435598,\n",
              "        -3.62958123, -0.45045711]])"
            ]
          },
          "metadata": {}
        }
      ]
    },
    {
      "cell_type": "code",
      "source": [
        "display(X_test)"
      ],
      "metadata": {
        "id": "lD7CYAPNdl7q",
        "outputId": "8fb8999b-5805-4477-ea59-45ba092b72df",
        "colab": {
          "base_uri": "https://localhost:8080/",
          "height": 243
        }
      },
      "execution_count": null,
      "outputs": [
        {
          "output_type": "display_data",
          "data": {
            "text/plain": [
              "array([[ 1.08471288e+00, -2.04799254e+00,  7.76031150e-01, ...,\n",
              "        -4.25884154e-01,  2.58281689e+00, -3.39530121e-01],\n",
              "       [ 1.52356013e-01,  9.22159879e-01,  1.03317366e+00, ...,\n",
              "        -1.27456537e+00, -1.14544661e+00,  2.83156129e-01],\n",
              "       [-1.56129013e-01,  7.22668932e-01, -3.62234753e-01, ...,\n",
              "        -6.94340443e-01, -1.50109875e+00, -5.00529319e-02],\n",
              "       ...,\n",
              "       [ 1.08863768e+00, -1.82818384e+00,  1.05679154e+00, ...,\n",
              "        -1.32834629e+00,  1.49794908e+00, -4.76947860e-02],\n",
              "       [-6.25925545e-01, -1.53554951e+00,  1.31454529e+00, ...,\n",
              "        -2.59128919e-01,  8.21284434e-01,  7.43122184e-01],\n",
              "       [-2.24088555e-03, -6.41017168e-01,  6.79113985e-01, ...,\n",
              "         1.80206637e+00,  6.49532995e-01,  2.56583945e-01]])"
            ]
          },
          "metadata": {}
        }
      ]
    },
    {
      "cell_type": "code",
      "source": [
        "display(y_train)"
      ],
      "metadata": {
        "id": "kETrW-GOdvhK",
        "outputId": "5ea58a34-22a7-41ab-da37-97387d0a3d35",
        "colab": {
          "base_uri": "https://localhost:8080/",
          "height": 416
        }
      },
      "execution_count": null,
      "outputs": [
        {
          "output_type": "display_data",
          "data": {
            "text/plain": [
              "array([1, 1, 1, 1, 1, 1, 0, 0, 0, 1, 0, 0, 1, 0, 0, 0, 0, 0, 0, 1, 1, 1,\n",
              "       0, 0, 0, 0, 1, 1, 1, 1, 0, 1, 1, 1, 1, 1, 1, 0, 0, 1, 0, 1, 1, 1,\n",
              "       0, 1, 1, 1, 1, 0, 0, 1, 0, 1, 0, 1, 0, 0, 0, 0, 0, 0, 1, 1, 0, 0,\n",
              "       1, 0, 0, 1, 0, 0, 0, 0, 0, 0, 1, 0, 1, 0, 0, 1, 0, 0, 0, 0, 1, 1,\n",
              "       0, 1, 1, 0, 0, 0, 1, 0, 1, 1, 0, 0, 1, 0, 0, 0, 1, 0, 1, 1, 0, 0,\n",
              "       1, 1, 0, 1, 0, 1, 0, 0, 1, 1, 1, 1, 1, 0, 0, 0, 0, 0, 1, 0, 0, 1,\n",
              "       0, 0, 1, 1, 1, 1, 1, 0, 1, 0, 0, 1, 1, 0, 0, 0, 0, 0, 1, 0, 1, 0,\n",
              "       0, 0, 0, 1, 0, 0, 0, 0, 1, 1, 0, 0, 1, 0, 1, 0, 1, 0, 0, 1, 1, 1,\n",
              "       0, 1, 1, 1, 0, 0, 0, 1, 1, 0, 1, 1, 1, 1, 1, 0, 1, 1, 1, 1, 0, 1,\n",
              "       1, 0, 1, 0, 0, 0, 0, 1, 0, 0, 1, 1, 1, 1, 1, 0, 0, 1, 1, 1, 1, 1,\n",
              "       0, 1, 1, 1, 0, 1, 0, 1, 0, 1, 1, 1, 0, 1, 0, 1, 1, 1, 0, 1, 1, 1,\n",
              "       1, 0, 0, 1, 0, 0, 1, 0, 0, 1, 1, 0, 0, 1, 0, 1, 1, 1, 1, 0, 1, 0,\n",
              "       1, 1, 1, 0, 1, 1, 0, 0, 1, 0, 0, 1, 0, 0, 1, 0, 1, 1, 1, 1, 1, 0,\n",
              "       0, 1, 0, 1, 1, 1, 0, 0, 1, 1, 0, 0, 0, 0, 0, 0, 1, 1, 1, 0, 1, 1,\n",
              "       1, 1, 0, 1, 1, 0, 0, 1, 1, 0, 0, 1, 0, 0, 0, 0, 0, 0, 1, 1, 0, 1,\n",
              "       1, 1, 0, 0, 0, 1, 0, 1, 0, 1, 0, 0, 0, 1, 0, 0, 1, 1, 1, 0, 0, 0,\n",
              "       0, 0, 0, 0, 0, 1, 1, 1, 1, 0, 0, 0, 0, 1, 0, 1, 1, 1, 1, 0, 0, 0,\n",
              "       1, 0, 1, 1, 0, 0, 1, 1, 1, 1, 1, 1, 1, 0, 0, 0, 0, 0, 0, 0, 1, 1,\n",
              "       0, 0, 1, 0, 1, 1, 1, 1, 1, 0, 1, 1, 0, 0, 0, 0, 1, 0, 1, 1, 1, 0,\n",
              "       0, 0, 0, 1, 1, 1, 1, 0, 0, 1, 1, 1, 0, 0, 1, 1, 1, 0, 1, 0, 1, 0,\n",
              "       0, 0, 1, 0, 1, 0, 1, 0, 1, 0, 0, 0, 1, 1, 0, 1, 0, 0, 1, 0, 0, 1,\n",
              "       1, 0, 0, 1, 0, 1, 0, 1, 1, 1, 1, 0, 0, 0, 0, 1, 0, 1, 0, 0, 0, 0,\n",
              "       1, 1, 0, 1, 1, 1, 1, 0, 1, 1, 1, 1, 0, 0, 1, 0])"
            ]
          },
          "metadata": {}
        }
      ]
    },
    {
      "cell_type": "code",
      "source": [
        "display(y_test)"
      ],
      "metadata": {
        "id": "sWtdTVT5d8HO",
        "outputId": "ae1388bc-1a30-484d-af9d-c30e6a5b0efa",
        "colab": {
          "base_uri": "https://localhost:8080/",
          "height": 416
        }
      },
      "execution_count": null,
      "outputs": [
        {
          "output_type": "display_data",
          "data": {
            "text/plain": [
              "array([1, 0, 0, 1, 0, 0, 0, 1, 1, 0, 0, 1, 0, 1, 1, 1, 0, 1, 1, 1, 1, 1,\n",
              "       0, 1, 0, 0, 0, 0, 0, 1, 1, 0, 1, 0, 0, 0, 0, 1, 1, 1, 0, 0, 1, 1,\n",
              "       0, 0, 0, 1, 0, 1, 0, 1, 0, 1, 0, 0, 0, 1, 1, 1, 0, 1, 0, 0, 1, 0,\n",
              "       0, 0, 0, 1, 0, 0, 0, 1, 0, 0, 0, 1, 1, 0, 0, 0, 0, 1, 0, 0, 1, 0,\n",
              "       0, 1, 1, 0, 0, 0, 1, 0, 1, 1, 0, 0, 1, 0, 0, 0, 0, 0, 1, 1, 0, 1,\n",
              "       1, 0, 1, 1, 0, 1, 1, 1, 0, 0, 1, 0, 0, 0, 0, 0, 0, 0, 0, 0, 0, 0,\n",
              "       0, 0, 1, 0, 0, 1, 0, 1, 0, 1, 0, 1, 0, 0, 1, 0, 0, 1, 1, 1, 0, 0,\n",
              "       0, 1, 0, 0, 0, 1, 0, 1, 0, 1, 0, 1, 0, 0, 0, 1, 0, 0, 1, 1, 1, 0,\n",
              "       1, 0, 0, 1, 1, 1, 0, 1, 1, 1, 1, 1, 1, 0, 1, 0, 0, 0, 1, 0, 0, 1,\n",
              "       0, 1, 0, 1, 0, 0, 1, 1, 0, 1, 0, 0, 1, 0, 1, 1, 1, 1, 1, 0, 1, 1,\n",
              "       1, 1, 1, 0, 1, 0, 1, 1, 0, 1, 0, 1, 1, 1, 1, 1, 0, 0, 1, 1, 0, 0,\n",
              "       0, 0, 1, 1, 1, 0, 1, 0, 1, 1, 1, 0, 1, 0, 0, 0, 0, 0, 0, 0, 1, 1,\n",
              "       1, 0, 0, 1, 1, 1, 0, 0, 1, 1, 0, 1, 0, 0, 1, 1, 1, 0, 0, 0, 0, 1,\n",
              "       1, 0, 1, 0, 0, 0, 0, 1, 1, 0, 0, 0, 0, 0, 0, 0, 0, 0, 0, 1, 0, 0,\n",
              "       0, 0, 0, 0, 1, 0, 1, 1, 0, 1, 1, 1, 0, 1, 1, 1, 1, 1, 0, 0, 1, 0,\n",
              "       0, 1, 1, 1, 1, 0, 0, 1, 0, 0, 0, 0, 0, 1, 1, 0, 1, 1, 1, 1, 0, 0,\n",
              "       0, 0, 0, 1, 1, 1, 0, 1, 1, 1, 0, 0, 1, 1, 0, 1, 1, 0, 0, 1, 1, 1,\n",
              "       0, 0, 0, 0, 1, 1, 1, 0, 1, 0, 1, 0, 1, 0, 1, 0, 0, 1, 1, 0, 0, 1,\n",
              "       1, 0, 1, 0, 0, 0, 1, 1, 0, 1, 1, 1, 1, 0, 1, 0, 1, 0, 1, 1, 1, 1,\n",
              "       0, 1, 1, 0, 0, 0, 0, 1, 0, 0, 0, 1, 1, 1, 1, 0, 1, 0, 0, 0, 0, 0,\n",
              "       0, 1, 1, 0, 0, 0, 1, 1, 0, 0, 0, 1, 0, 1, 0, 0, 1, 1, 1, 0, 0, 1,\n",
              "       1, 1, 1, 1, 0, 1, 0, 1, 1, 1, 1, 1, 1, 0, 1, 0, 1, 1, 1, 1, 0, 0,\n",
              "       1, 1, 1, 0, 1, 0, 0, 0, 0, 1, 1, 0, 1, 1, 1, 1])"
            ]
          },
          "metadata": {}
        }
      ]
    },
    {
      "cell_type": "markdown",
      "source": [
        "**Perform Logistic Regression. Train aka Fit the model**\n",
        "Fitting is syononymous to Training"
      ],
      "metadata": {
        "id": "5rwS6VyReOsr"
      }
    },
    {
      "cell_type": "code",
      "source": [
        "# Create a Logistic Regression object, perform Logistic Regression\n",
        "model = LogisticRegression()\n",
        "model.fit(X_train, y_train)"
      ],
      "metadata": {
        "id": "P8nwjqwdeSNJ",
        "outputId": "bf872a80-fdf0-4766-8adc-f1bcd46a2da2",
        "colab": {
          "base_uri": "https://localhost:8080/"
        }
      },
      "execution_count": null,
      "outputs": [
        {
          "output_type": "execute_result",
          "data": {
            "text/plain": [
              "LogisticRegression()"
            ]
          },
          "metadata": {},
          "execution_count": 83
        }
      ]
    },
    {
      "cell_type": "code",
      "source": [
        "# Show LogisticRegression coef and intercept\n",
        "print(model.coef_)\n",
        "print(model.intercept_)"
      ],
      "metadata": {
        "id": "fhtsMldweZTS",
        "outputId": "0083911a-7c26-4623-8845-b42df21d84dd",
        "colab": {
          "base_uri": "https://localhost:8080/"
        }
      },
      "execution_count": null,
      "outputs": [
        {
          "output_type": "stream",
          "name": "stdout",
          "text": [
            "[[-0.19655061 -2.82710598  0.18608708 -0.06097615 -0.45991638 -0.08905548\n",
            "   0.47140539  0.12727328  1.4196054  -0.09780552]]\n",
            "[1.35102629]\n"
          ]
        }
      ]
    },
    {
      "cell_type": "markdown",
      "source": [
        "**Make Prediction using the model**"
      ],
      "metadata": {
        "id": "UB3d0B0Je9uX"
      }
    },
    {
      "cell_type": "code",
      "source": [
        "prediction = model.predict(X_test)"
      ],
      "metadata": {
        "id": "JxIQwKZpfAUN"
      },
      "execution_count": null,
      "outputs": []
    },
    {
      "cell_type": "markdown",
      "source": [
        "**Display the confusion Matrix**"
      ],
      "metadata": {
        "id": "mBx8psE_fXxQ"
      }
    },
    {
      "cell_type": "code",
      "source": [
        "print(confusion_matrix(y_test, prediction))"
      ],
      "metadata": {
        "id": "Eqp1Em2sfWn8",
        "outputId": "ba09dc63-5f2d-4e90-97c0-ac450793a2d0",
        "colab": {
          "base_uri": "https://localhost:8080/"
        }
      },
      "execution_count": null,
      "outputs": [
        {
          "output_type": "stream",
          "name": "stdout",
          "text": [
            "[[251   8]\n",
            " [ 11 230]]\n"
          ]
        }
      ]
    },
    {
      "cell_type": "markdown",
      "source": [
        "**Display the Accuracy Score**"
      ],
      "metadata": {
        "id": "BBwIEvsfj0ph"
      }
    },
    {
      "cell_type": "code",
      "source": [
        "print(accuracy_score(y_test, prediction))"
      ],
      "metadata": {
        "id": "egGy_70WfgQc",
        "outputId": "17a533d2-4882-49b8-9e00-a6e71e7bd87b",
        "colab": {
          "base_uri": "https://localhost:8080/"
        }
      },
      "execution_count": null,
      "outputs": [
        {
          "output_type": "stream",
          "name": "stdout",
          "text": [
            "0.962\n"
          ]
        }
      ]
    },
    {
      "cell_type": "markdown",
      "source": [
        "**Display the classification Report**"
      ],
      "metadata": {
        "id": "W7Lx1SYtj5Ws"
      }
    },
    {
      "cell_type": "code",
      "source": [
        "print(classification_report(y_test, prediction))"
      ],
      "metadata": {
        "id": "6udYmS9UjZO8",
        "outputId": "7e5da3cf-fc93-4652-f736-9eb5e96127f7",
        "colab": {
          "base_uri": "https://localhost:8080/"
        }
      },
      "execution_count": null,
      "outputs": [
        {
          "output_type": "stream",
          "name": "stdout",
          "text": [
            "              precision    recall  f1-score   support\n",
            "\n",
            "           0       0.96      0.97      0.96       259\n",
            "           1       0.97      0.95      0.96       241\n",
            "\n",
            "    accuracy                           0.96       500\n",
            "   macro avg       0.96      0.96      0.96       500\n",
            "weighted avg       0.96      0.96      0.96       500\n",
            "\n"
          ]
        }
      ]
    },
    {
      "cell_type": "markdown",
      "source": [
        "**Check Accuracy scores for various other algorithms**"
      ],
      "metadata": {
        "id": "ZXs58zSdp_aL"
      }
    },
    {
      "cell_type": "code",
      "source": [
        "# Check Accuracy for various Algorithms\n",
        "algorithm_list = []\n",
        "algorithm_list.append(('LR', LogisticRegression(solver='liblinear', multi_class='ovr')))\n",
        "algorithm_list.append(('LDA', LinearDiscriminantAnalysis()))\n",
        "algorithm_list.append(('KNN', KNeighborsClassifier()))\n",
        "algorithm_list.append(('CART', DecisionTreeClassifier()))\n",
        "algorithm_list.append(('NB', GaussianNB()))\n",
        "algorithm_list.append(('SVM', SVC(gamma='auto')))\n",
        "# Evaluate each model in turn\n",
        "results = []\n",
        "algorithm_names = []\n",
        "for name, algor in algorithm_list:\n",
        "  kfold = StratifiedKFold(n_splits = 10, random_state=1, shuffle=True)\n",
        "  cv_results = cross_val_score(algor, X_train, y_train, cv=kfold, scoring='accuracy')\n",
        "  results.append(cv_results)\n",
        "  algorithm_names.append(name)\n",
        "  print('%s: %f (%f)' % (name, cv_results.mean(), cv_results.std()))"
      ],
      "metadata": {
        "id": "fU_OotHqjoRX",
        "outputId": "91cf5b52-ca38-4e98-c22d-0c095fa4670f",
        "colab": {
          "base_uri": "https://localhost:8080/"
        }
      },
      "execution_count": null,
      "outputs": [
        {
          "output_type": "stream",
          "name": "stdout",
          "text": [
            "LR: 0.952000 (0.037094)\n",
            "LDA: 0.928000 (0.037094)\n",
            "KNN: 0.938000 (0.037363)\n",
            "CART: 0.962000 (0.018868)\n",
            "NB: 0.926000 (0.042000)\n",
            "SVM: 0.970000 (0.036056)\n"
          ]
        }
      ]
    },
    {
      "cell_type": "code",
      "source": [
        "plt.boxplot(results, labels=algorithm_names)\n",
        "plt.title('Algorithm Accuracy comparision')\n",
        "plt.show()"
      ],
      "metadata": {
        "id": "IFCaACKJnkbI",
        "outputId": "a088711c-de44-43a2-e0c3-8710d5508e45",
        "colab": {
          "base_uri": "https://localhost:8080/",
          "height": 281
        }
      },
      "execution_count": null,
      "outputs": [
        {
          "output_type": "display_data",
          "data": {
            "text/plain": [
              "<Figure size 432x288 with 1 Axes>"
            ],
            "image/png": "[encoded data removed]"
          },
          "metadata": {
            "needs_background": "light"
          }
        }
      ]
    },
    {
      "cell_type": "code",
      "source": [
        ""
      ],
      "metadata": {
        "id": "sVALhyuFqe5q"
      },
      "execution_count": null,
      "outputs": []
    }
  ]
}